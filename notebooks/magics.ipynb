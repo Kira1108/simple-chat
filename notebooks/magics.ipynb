{
 "cells": [
  {
   "cell_type": "code",
   "execution_count": 34,
   "metadata": {},
   "outputs": [],
   "source": [
    "from simple_chat import Chat\n",
    "from simple_chat.printer import MarkdownPrinter\n",
    "from IPython.core.magic import (register_line_magic, register_cell_magic,\n",
    "                                register_line_cell_magic)\n",
    "\n",
    "\n",
    "chat = Chat(printer = MarkdownPrinter())\n",
    "\n",
    "@register_line_magic\n",
    "def start(line):\n",
    "    print(\"Starting chatting\")\n",
    "    chat.go()\n",
    "\n",
    "@register_line_magic\n",
    "def newtalk(line):\n",
    "    chat.message= []\n",
    "    chat.eager = False\n",
    "    print(\"New talk opened\")\n",
    "\n",
    "@register_line_magic\n",
    "def show(line):\n",
    "    chat.show()\n",
    "\n",
    "@register_line_cell_magic\n",
    "def talk(line, cell=None):\n",
    "    if cell is None:\n",
    "        chat(line)\n",
    "    else:\n",
    "        if line == \"\":\n",
    "            line = 'user'\n",
    "        getattr(chat, line)(cell)"
   ]
  },
  {
   "cell_type": "code",
   "execution_count": 35,
   "metadata": {},
   "outputs": [
    {
     "name": "stdout",
     "output_type": "stream",
     "text": [
      "Starting chatting\n"
     ]
    }
   ],
   "source": [
    "%start"
   ]
  },
  {
   "cell_type": "code",
   "execution_count": 36,
   "metadata": {},
   "outputs": [],
   "source": [
    "%talk Hi there"
   ]
  },
  {
   "cell_type": "code",
   "execution_count": 28,
   "metadata": {},
   "outputs": [
    {
     "data": {
      "text/markdown": [
       "Great! To get started, here are some steps you can take:\n",
       "\n",
       "1. Learn the basics of programming: It's important to have a strong foundation in at least one programming language, such as Python or R, in order to build ML models.\n",
       "\n",
       "2. Take online courses: There are many online courses available for free or for a fee. Some popular platforms are Coursera, edX, and Udemy.\n",
       "\n",
       "3. Read books: There are many books written on machine learning from beginner to advanced level. Some popular books are \"Hands-On Machine Learning with Scikit-Learn and TensorFlow\" by Aurélien Géron and \"Python Machine Learning\" by Sebastian Raschka.\n",
       "\n",
       "4. Practice, practice, practice: The best way to learn is to practice. Find practice problems and datasets to work with and experiment with the models.\n",
       "\n",
       "5. Join a community: Join online communities on social networking sites or forums like Reddit to find help or advice as you learn ML.\n",
       "\n",
       "Remember, machine learning is a vast field, and it takes time and consistent effort to become proficient. Good luck with your learning journey!"
      ],
      "text/plain": [
       "<IPython.core.display.Markdown object>"
      ]
     },
     "metadata": {},
     "output_type": "display_data"
    }
   ],
   "source": [
    "%talk I want to learn ml"
   ]
  },
  {
   "cell_type": "code",
   "execution_count": 29,
   "metadata": {},
   "outputs": [
    {
     "data": {
      "text/html": [
       "<pre style=\"white-space:pre;overflow-x:auto;line-height:normal;font-family:Menlo,'DejaVu Sans Mono',consolas,'Courier New',monospace\"><span style=\"font-style: italic\">                                                      ChatLog                                                      </span>\n",
       "┏━━━━┳━━━━━━━━━━━┳━━━━━━━━━━━━━━━━━━━━━━━━━━━━━━━━━━━━━━━━━━━━━━━━━━━━━━━━━━━━━━━━━━━━━━━━━━━━━━━━━━━━━━━━━━━━━━━━┓\n",
       "┃<span style=\"font-weight: bold\"> Id </span>┃<span style=\"font-weight: bold\">      Role </span>┃<span style=\"font-weight: bold\"> Content                                                                                        </span>┃\n",
       "┡━━━━╇━━━━━━━━━━━╇━━━━━━━━━━━━━━━━━━━━━━━━━━━━━━━━━━━━━━━━━━━━━━━━━━━━━━━━━━━━━━━━━━━━━━━━━━━━━━━━━━━━━━━━━━━━━━━━┩\n",
       "│<span style=\"color: #c0c0c0; text-decoration-color: #c0c0c0\"> 1  </span>│<span style=\"color: #008080; text-decoration-color: #008080\">      User </span>│<span style=\"color: #c0c0c0; text-decoration-color: #c0c0c0\"> Hi there                                                                                       </span>│\n",
       "├────┼───────────┼────────────────────────────────────────────────────────────────────────────────────────────────┤\n",
       "│<span style=\"color: #c0c0c0; text-decoration-color: #c0c0c0\"> 2  </span>│<span style=\"color: #008080; text-decoration-color: #008080\"> Assistant </span>│<span style=\"color: #c0c0c0; text-decoration-color: #c0c0c0\"> Hello! How can I help you today?                                                               </span>│\n",
       "├────┼───────────┼────────────────────────────────────────────────────────────────────────────────────────────────┤\n",
       "│<span style=\"color: #c0c0c0; text-decoration-color: #c0c0c0\"> 3  </span>│<span style=\"color: #008080; text-decoration-color: #008080\">      User </span>│<span style=\"color: #c0c0c0; text-decoration-color: #c0c0c0\"> I want to learn ml                                                                             </span>│\n",
       "├────┼───────────┼────────────────────────────────────────────────────────────────────────────────────────────────┤\n",
       "│<span style=\"color: #c0c0c0; text-decoration-color: #c0c0c0\"> 4  </span>│<span style=\"color: #008080; text-decoration-color: #008080\"> Assistant </span>│<span style=\"color: #c0c0c0; text-decoration-color: #c0c0c0\"> Great! To get started, here are some steps you can take:                                       </span>│\n",
       "│<span style=\"color: #c0c0c0; text-decoration-color: #c0c0c0\">    </span>│<span style=\"color: #008080; text-decoration-color: #008080\">           </span>│<span style=\"color: #c0c0c0; text-decoration-color: #c0c0c0\">                                                                                                </span>│\n",
       "│<span style=\"color: #c0c0c0; text-decoration-color: #c0c0c0\">    </span>│<span style=\"color: #008080; text-decoration-color: #008080\">           </span>│<span style=\"color: #c0c0c0; text-decoration-color: #c0c0c0\"> 1. Learn the basics of programming: It's important to have a strong foundation in at least one </span>│\n",
       "│<span style=\"color: #c0c0c0; text-decoration-color: #c0c0c0\">    </span>│<span style=\"color: #008080; text-decoration-color: #008080\">           </span>│<span style=\"color: #c0c0c0; text-decoration-color: #c0c0c0\"> programming language, such as Python or R, in order to build ML models.                        </span>│\n",
       "│<span style=\"color: #c0c0c0; text-decoration-color: #c0c0c0\">    </span>│<span style=\"color: #008080; text-decoration-color: #008080\">           </span>│<span style=\"color: #c0c0c0; text-decoration-color: #c0c0c0\">                                                                                                </span>│\n",
       "│<span style=\"color: #c0c0c0; text-decoration-color: #c0c0c0\">    </span>│<span style=\"color: #008080; text-decoration-color: #008080\">           </span>│<span style=\"color: #c0c0c0; text-decoration-color: #c0c0c0\"> 2. Take online courses: There are many online courses available for free or for a fee. Some    </span>│\n",
       "│<span style=\"color: #c0c0c0; text-decoration-color: #c0c0c0\">    </span>│<span style=\"color: #008080; text-decoration-color: #008080\">           </span>│<span style=\"color: #c0c0c0; text-decoration-color: #c0c0c0\"> popular platforms are Coursera, edX, and Udemy.                                                </span>│\n",
       "│<span style=\"color: #c0c0c0; text-decoration-color: #c0c0c0\">    </span>│<span style=\"color: #008080; text-decoration-color: #008080\">           </span>│<span style=\"color: #c0c0c0; text-decoration-color: #c0c0c0\">                                                                                                </span>│\n",
       "│<span style=\"color: #c0c0c0; text-decoration-color: #c0c0c0\">    </span>│<span style=\"color: #008080; text-decoration-color: #008080\">           </span>│<span style=\"color: #c0c0c0; text-decoration-color: #c0c0c0\"> 3. Read books: There are many books written on machine learning from beginner to advanced      </span>│\n",
       "│<span style=\"color: #c0c0c0; text-decoration-color: #c0c0c0\">    </span>│<span style=\"color: #008080; text-decoration-color: #008080\">           </span>│<span style=\"color: #c0c0c0; text-decoration-color: #c0c0c0\"> level. Some popular books are \"Hands-On Machine Learning with Scikit-Learn and TensorFlow\" by  </span>│\n",
       "│<span style=\"color: #c0c0c0; text-decoration-color: #c0c0c0\">    </span>│<span style=\"color: #008080; text-decoration-color: #008080\">           </span>│<span style=\"color: #c0c0c0; text-decoration-color: #c0c0c0\"> Aurélien Géron and \"Python Machine Learning\" by Sebastian Raschka.                             </span>│\n",
       "│<span style=\"color: #c0c0c0; text-decoration-color: #c0c0c0\">    </span>│<span style=\"color: #008080; text-decoration-color: #008080\">           </span>│<span style=\"color: #c0c0c0; text-decoration-color: #c0c0c0\">                                                                                                </span>│\n",
       "│<span style=\"color: #c0c0c0; text-decoration-color: #c0c0c0\">    </span>│<span style=\"color: #008080; text-decoration-color: #008080\">           </span>│<span style=\"color: #c0c0c0; text-decoration-color: #c0c0c0\"> 4. Practice, practice, practice: The best way to learn is to practice. Find practice problems  </span>│\n",
       "│<span style=\"color: #c0c0c0; text-decoration-color: #c0c0c0\">    </span>│<span style=\"color: #008080; text-decoration-color: #008080\">           </span>│<span style=\"color: #c0c0c0; text-decoration-color: #c0c0c0\"> and datasets to work with and experiment with the models.                                      </span>│\n",
       "│<span style=\"color: #c0c0c0; text-decoration-color: #c0c0c0\">    </span>│<span style=\"color: #008080; text-decoration-color: #008080\">           </span>│<span style=\"color: #c0c0c0; text-decoration-color: #c0c0c0\">                                                                                                </span>│\n",
       "│<span style=\"color: #c0c0c0; text-decoration-color: #c0c0c0\">    </span>│<span style=\"color: #008080; text-decoration-color: #008080\">           </span>│<span style=\"color: #c0c0c0; text-decoration-color: #c0c0c0\"> 5. Join a community: Join online communities on social networking sites or forums like Reddit  </span>│\n",
       "│<span style=\"color: #c0c0c0; text-decoration-color: #c0c0c0\">    </span>│<span style=\"color: #008080; text-decoration-color: #008080\">           </span>│<span style=\"color: #c0c0c0; text-decoration-color: #c0c0c0\"> to find help or advice as you learn ML.                                                        </span>│\n",
       "│<span style=\"color: #c0c0c0; text-decoration-color: #c0c0c0\">    </span>│<span style=\"color: #008080; text-decoration-color: #008080\">           </span>│<span style=\"color: #c0c0c0; text-decoration-color: #c0c0c0\">                                                                                                </span>│\n",
       "│<span style=\"color: #c0c0c0; text-decoration-color: #c0c0c0\">    </span>│<span style=\"color: #008080; text-decoration-color: #008080\">           </span>│<span style=\"color: #c0c0c0; text-decoration-color: #c0c0c0\"> Remember, machine learning is a vast field, and it takes time and consistent effort to become  </span>│\n",
       "│<span style=\"color: #c0c0c0; text-decoration-color: #c0c0c0\">    </span>│<span style=\"color: #008080; text-decoration-color: #008080\">           </span>│<span style=\"color: #c0c0c0; text-decoration-color: #c0c0c0\"> proficient. Good luck with your learning journey!                                              </span>│\n",
       "└────┴───────────┴────────────────────────────────────────────────────────────────────────────────────────────────┘\n",
       "</pre>\n"
      ],
      "text/plain": [
       "\u001b[3m                                                      ChatLog                                                      \u001b[0m\n",
       "┏━━━━┳━━━━━━━━━━━┳━━━━━━━━━━━━━━━━━━━━━━━━━━━━━━━━━━━━━━━━━━━━━━━━━━━━━━━━━━━━━━━━━━━━━━━━━━━━━━━━━━━━━━━━━━━━━━━━┓\n",
       "┃\u001b[1m \u001b[0m\u001b[1mId\u001b[0m\u001b[1m \u001b[0m┃\u001b[1m \u001b[0m\u001b[1m     Role\u001b[0m\u001b[1m \u001b[0m┃\u001b[1m \u001b[0m\u001b[1mContent                                                                                       \u001b[0m\u001b[1m \u001b[0m┃\n",
       "┡━━━━╇━━━━━━━━━━━╇━━━━━━━━━━━━━━━━━━━━━━━━━━━━━━━━━━━━━━━━━━━━━━━━━━━━━━━━━━━━━━━━━━━━━━━━━━━━━━━━━━━━━━━━━━━━━━━━┩\n",
       "│\u001b[37m \u001b[0m\u001b[37m1 \u001b[0m\u001b[37m \u001b[0m│\u001b[36m \u001b[0m\u001b[36m     User\u001b[0m\u001b[36m \u001b[0m│\u001b[37m \u001b[0m\u001b[37mHi there                                                                                      \u001b[0m\u001b[37m \u001b[0m│\n",
       "├────┼───────────┼────────────────────────────────────────────────────────────────────────────────────────────────┤\n",
       "│\u001b[37m \u001b[0m\u001b[37m2 \u001b[0m\u001b[37m \u001b[0m│\u001b[36m \u001b[0m\u001b[36mAssistant\u001b[0m\u001b[36m \u001b[0m│\u001b[37m \u001b[0m\u001b[37mHello! How can I help you today?                                                              \u001b[0m\u001b[37m \u001b[0m│\n",
       "├────┼───────────┼────────────────────────────────────────────────────────────────────────────────────────────────┤\n",
       "│\u001b[37m \u001b[0m\u001b[37m3 \u001b[0m\u001b[37m \u001b[0m│\u001b[36m \u001b[0m\u001b[36m     User\u001b[0m\u001b[36m \u001b[0m│\u001b[37m \u001b[0m\u001b[37mI want to learn ml                                                                            \u001b[0m\u001b[37m \u001b[0m│\n",
       "├────┼───────────┼────────────────────────────────────────────────────────────────────────────────────────────────┤\n",
       "│\u001b[37m \u001b[0m\u001b[37m4 \u001b[0m\u001b[37m \u001b[0m│\u001b[36m \u001b[0m\u001b[36mAssistant\u001b[0m\u001b[36m \u001b[0m│\u001b[37m \u001b[0m\u001b[37mGreat! To get started, here are some steps you can take:                                      \u001b[0m\u001b[37m \u001b[0m│\n",
       "│\u001b[37m    \u001b[0m│\u001b[36m           \u001b[0m│\u001b[37m \u001b[0m\u001b[37m                                                                                              \u001b[0m\u001b[37m \u001b[0m│\n",
       "│\u001b[37m    \u001b[0m│\u001b[36m           \u001b[0m│\u001b[37m \u001b[0m\u001b[37m1. Learn the basics of programming: It's important to have a strong foundation in at least one\u001b[0m\u001b[37m \u001b[0m│\n",
       "│\u001b[37m    \u001b[0m│\u001b[36m           \u001b[0m│\u001b[37m \u001b[0m\u001b[37mprogramming language, such as Python or R, in order to build ML models.                       \u001b[0m\u001b[37m \u001b[0m│\n",
       "│\u001b[37m    \u001b[0m│\u001b[36m           \u001b[0m│\u001b[37m \u001b[0m\u001b[37m                                                                                              \u001b[0m\u001b[37m \u001b[0m│\n",
       "│\u001b[37m    \u001b[0m│\u001b[36m           \u001b[0m│\u001b[37m \u001b[0m\u001b[37m2. Take online courses: There are many online courses available for free or for a fee. Some   \u001b[0m\u001b[37m \u001b[0m│\n",
       "│\u001b[37m    \u001b[0m│\u001b[36m           \u001b[0m│\u001b[37m \u001b[0m\u001b[37mpopular platforms are Coursera, edX, and Udemy.                                               \u001b[0m\u001b[37m \u001b[0m│\n",
       "│\u001b[37m    \u001b[0m│\u001b[36m           \u001b[0m│\u001b[37m \u001b[0m\u001b[37m                                                                                              \u001b[0m\u001b[37m \u001b[0m│\n",
       "│\u001b[37m    \u001b[0m│\u001b[36m           \u001b[0m│\u001b[37m \u001b[0m\u001b[37m3. Read books: There are many books written on machine learning from beginner to advanced     \u001b[0m\u001b[37m \u001b[0m│\n",
       "│\u001b[37m    \u001b[0m│\u001b[36m           \u001b[0m│\u001b[37m \u001b[0m\u001b[37mlevel. Some popular books are \"Hands-On Machine Learning with Scikit-Learn and TensorFlow\" by \u001b[0m\u001b[37m \u001b[0m│\n",
       "│\u001b[37m    \u001b[0m│\u001b[36m           \u001b[0m│\u001b[37m \u001b[0m\u001b[37mAurélien Géron and \"Python Machine Learning\" by Sebastian Raschka.                            \u001b[0m\u001b[37m \u001b[0m│\n",
       "│\u001b[37m    \u001b[0m│\u001b[36m           \u001b[0m│\u001b[37m \u001b[0m\u001b[37m                                                                                              \u001b[0m\u001b[37m \u001b[0m│\n",
       "│\u001b[37m    \u001b[0m│\u001b[36m           \u001b[0m│\u001b[37m \u001b[0m\u001b[37m4. Practice, practice, practice: The best way to learn is to practice. Find practice problems \u001b[0m\u001b[37m \u001b[0m│\n",
       "│\u001b[37m    \u001b[0m│\u001b[36m           \u001b[0m│\u001b[37m \u001b[0m\u001b[37mand datasets to work with and experiment with the models.                                     \u001b[0m\u001b[37m \u001b[0m│\n",
       "│\u001b[37m    \u001b[0m│\u001b[36m           \u001b[0m│\u001b[37m \u001b[0m\u001b[37m                                                                                              \u001b[0m\u001b[37m \u001b[0m│\n",
       "│\u001b[37m    \u001b[0m│\u001b[36m           \u001b[0m│\u001b[37m \u001b[0m\u001b[37m5. Join a community: Join online communities on social networking sites or forums like Reddit \u001b[0m\u001b[37m \u001b[0m│\n",
       "│\u001b[37m    \u001b[0m│\u001b[36m           \u001b[0m│\u001b[37m \u001b[0m\u001b[37mto find help or advice as you learn ML.                                                       \u001b[0m\u001b[37m \u001b[0m│\n",
       "│\u001b[37m    \u001b[0m│\u001b[36m           \u001b[0m│\u001b[37m \u001b[0m\u001b[37m                                                                                              \u001b[0m\u001b[37m \u001b[0m│\n",
       "│\u001b[37m    \u001b[0m│\u001b[36m           \u001b[0m│\u001b[37m \u001b[0m\u001b[37mRemember, machine learning is a vast field, and it takes time and consistent effort to become \u001b[0m\u001b[37m \u001b[0m│\n",
       "│\u001b[37m    \u001b[0m│\u001b[36m           \u001b[0m│\u001b[37m \u001b[0m\u001b[37mproficient. Good luck with your learning journey!                                             \u001b[0m\u001b[37m \u001b[0m│\n",
       "└────┴───────────┴────────────────────────────────────────────────────────────────────────────────────────────────┘\n"
      ]
     },
     "metadata": {},
     "output_type": "display_data"
    }
   ],
   "source": [
    "chat.show()"
   ]
  },
  {
   "cell_type": "code",
   "execution_count": 30,
   "metadata": {},
   "outputs": [
    {
     "name": "stdout",
     "output_type": "stream",
     "text": [
      "New talk opened\n"
     ]
    }
   ],
   "source": [
    "%newtalk"
   ]
  },
  {
   "cell_type": "code",
   "execution_count": 31,
   "metadata": {},
   "outputs": [
    {
     "data": {
      "text/html": [
       "<pre style=\"white-space:pre;overflow-x:auto;line-height:normal;font-family:Menlo,'DejaVu Sans Mono',consolas,'Courier New',monospace\"><span style=\"font-style: italic\">        ChatLog        </span>\n",
       "┏━━━━┳━━━━━━┳━━━━━━━━━┓\n",
       "┃<span style=\"font-weight: bold\"> Id </span>┃<span style=\"font-weight: bold\"> Role </span>┃<span style=\"font-weight: bold\"> Content </span>┃\n",
       "┡━━━━╇━━━━━━╇━━━━━━━━━┩\n",
       "└────┴──────┴─────────┘\n",
       "</pre>\n"
      ],
      "text/plain": [
       "\u001b[3m        ChatLog        \u001b[0m\n",
       "┏━━━━┳━━━━━━┳━━━━━━━━━┓\n",
       "┃\u001b[1m \u001b[0m\u001b[1mId\u001b[0m\u001b[1m \u001b[0m┃\u001b[1m \u001b[0m\u001b[1mRole\u001b[0m\u001b[1m \u001b[0m┃\u001b[1m \u001b[0m\u001b[1mContent\u001b[0m\u001b[1m \u001b[0m┃\n",
       "┡━━━━╇━━━━━━╇━━━━━━━━━┩\n",
       "└────┴──────┴─────────┘\n"
      ]
     },
     "metadata": {},
     "output_type": "display_data"
    }
   ],
   "source": [
    "%show"
   ]
  },
  {
   "cell_type": "code",
   "execution_count": 33,
   "metadata": {},
   "outputs": [
    {
     "data": {
      "text/markdown": [
       "\n",
       "\n",
       "Once upon a time, there was a young couple in love. They had dreams of building a life together and starting a family. They worked hard to save up for a small house in the countryside, and everything seemed perfect.\n",
       "\n",
       "But one fateful night, the woman was hit by a car while walking home from work. She was rushed to the hospital, but it was too late. She passed away, leaving behind her devastated partner.\n",
       "\n",
       "In the weeks and months that followed, the man struggled to cope with his loss. He couldn't bear to be in the house they had planned to make their home. Memories of happier times haunted him day and night.\n",
       "\n",
       "Eventually, the man lost his job and began to drink heavily. He became a recluse, rarely leaving the house except to buy more alcohol. He stopped answering calls from his friends and family, sinking deeper and deeper into despair.\n",
       "\n",
       "One night, he had had enough. He wrote a note to his loved ones, apologizing for his behavior and saying he couldn't go on without his soulmate. He poured himself a drink, took a handful of pills, and went to sleep, never to wake up again.\n",
       "\n",
       "The tragedy of their love story came full circle. Two hearts that had once been so full of joy and promise were now forever torn apart."
      ],
      "text/plain": [
       "<IPython.core.display.Markdown object>"
      ]
     },
     "metadata": {},
     "output_type": "display_data"
    }
   ],
   "source": [
    "%%talk system\n",
    "I Want you to act as a story writer, you write sad and miserable stories."
   ]
  },
  {
   "cell_type": "code",
   "execution_count": null,
   "metadata": {},
   "outputs": [],
   "source": []
  }
 ],
 "metadata": {
  "kernelspec": {
   "display_name": "base",
   "language": "python",
   "name": "python3"
  },
  "language_info": {
   "codemirror_mode": {
    "name": "ipython",
    "version": 3
   },
   "file_extension": ".py",
   "mimetype": "text/x-python",
   "name": "python",
   "nbconvert_exporter": "python",
   "pygments_lexer": "ipython3",
   "version": "3.8.3"
  },
  "orig_nbformat": 4
 },
 "nbformat": 4,
 "nbformat_minor": 2
}
