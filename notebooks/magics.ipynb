{
 "cells": [
  {
   "cell_type": "code",
   "execution_count": 34,
   "metadata": {},
   "outputs": [],
   "source": [
    "from simple_chat import Chat\n",
    "from simple_chat.printer import MarkdownPrinter\n",
    "from IPython.core.magic import (register_line_magic, register_cell_magic,\n",
    "                                register_line_cell_magic)\n",
    "\n",
    "\n",
    "chat = Chat(printer = MarkdownPrinter())\n",
    "\n",
    "@register_line_magic\n",
    "def start(line):\n",
    "    print(\"Starting chatting\")\n",
    "    chat.go()\n",
    "\n",
    "@register_line_magic\n",
    "def newtalk(line):\n",
    "    chat.message= []\n",
    "    chat.eager = False\n",
    "    print(\"New talk opened\")\n",
    "\n",
    "@register_line_magic\n",
    "def show(line):\n",
    "    chat.show()\n",
    "\n",
    "@register_line_cell_magic\n",
    "def talk(line, cell=None):\n",
    "    if cell is None:\n",
    "        chat(line)\n",
    "    else:\n",
    "        if line == \"\":\n",
    "            line = 'user'\n",
    "        getattr(chat, line)(cell)"
   ]
  },
  {
   "cell_type": "code",
   "execution_count": 35,
   "metadata": {},
   "outputs": [
    {
     "name": "stdout",
     "output_type": "stream",
     "text": [
      "Starting chatting\n"
     ]
    }
   ],
   "source": [
    "%start"
   ]
  },
  {
   "cell_type": "code",
   "execution_count": 37,
   "metadata": {},
   "outputs": [
    {
     "data": {
      "text/markdown": [
       "Hello! How can I assist you today?"
      ],
      "text/plain": [
       "<IPython.core.display.Markdown object>"
      ]
     },
     "metadata": {},
     "output_type": "display_data"
    }
   ],
   "source": [
    "%talk Hi there"
   ]
  },
  {
   "cell_type": "code",
   "execution_count": 38,
   "metadata": {},
   "outputs": [
    {
     "data": {
      "text/markdown": [
       "Great! Machine learning is really interesting and there are many resources available to learn from. Here are some steps to get started:\n",
       "\n",
       "1. Learn the basics of programming: Before diving into machine learning, it's important to have a good grasp of programming concepts. Python is a popular language for machine learning and would be a good place to start.\n",
       "\n",
       "2. Learn the math: Machine learning involves a lot of mathematical concepts like linear algebra, calculus, and probability theory. You can study these concepts through online courses or textbooks.\n",
       "\n",
       "3. Understand the types of machine learning: There are three main types of machine learning - supervised learning, unsupervised learning, and reinforcement learning. It's important to understand the differences between the types and when to use each one.\n",
       "\n",
       "4. Learn from courses and books: There are many online courses and books available that can help you learn machine learning. Some popular options are \"Hands-on Machine Learning with Scikit-Learn and TensorFlow\" by Aurélien Géron, \"Machine Learning\" by Andrew Ng, and \"Python Machine Learning\" by Sebastian Raschka.\n",
       "\n",
       "5. Practice coding: To really understand machine learning, you need to practice coding. There are many open-source frameworks you can use to create your own machine learning projects, like TensorFlow or scikit-learn.\n",
       "\n",
       "Remember, machine learning is a complex field, so it might take some time and practice to get the hang of it. But if you stay curious and persistent, you'll be well on your way to mastering this exciting area of technology!"
      ],
      "text/plain": [
       "<IPython.core.display.Markdown object>"
      ]
     },
     "metadata": {},
     "output_type": "display_data"
    }
   ],
   "source": [
    "%talk I want to learn ml"
   ]
  },
  {
   "cell_type": "code",
   "execution_count": 39,
   "metadata": {},
   "outputs": [
    {
     "data": {
      "text/html": [
       "<pre style=\"white-space:pre;overflow-x:auto;line-height:normal;font-family:Menlo,'DejaVu Sans Mono',consolas,'Courier New',monospace\"><span style=\"font-style: italic\">                                                      ChatLog                                                      </span>\n",
       "┏━━━━┳━━━━━━━━━━━┳━━━━━━━━━━━━━━━━━━━━━━━━━━━━━━━━━━━━━━━━━━━━━━━━━━━━━━━━━━━━━━━━━━━━━━━━━━━━━━━━━━━━━━━━━━━━━━━━┓\n",
       "┃<span style=\"font-weight: bold\"> Id </span>┃<span style=\"font-weight: bold\">      Role </span>┃<span style=\"font-weight: bold\"> Content                                                                                        </span>┃\n",
       "┡━━━━╇━━━━━━━━━━━╇━━━━━━━━━━━━━━━━━━━━━━━━━━━━━━━━━━━━━━━━━━━━━━━━━━━━━━━━━━━━━━━━━━━━━━━━━━━━━━━━━━━━━━━━━━━━━━━━┩\n",
       "│<span style=\"color: #c0c0c0; text-decoration-color: #c0c0c0\"> 1  </span>│<span style=\"color: #008080; text-decoration-color: #008080\">      User </span>│<span style=\"color: #c0c0c0; text-decoration-color: #c0c0c0\"> Hi there                                                                                       </span>│\n",
       "├────┼───────────┼────────────────────────────────────────────────────────────────────────────────────────────────┤\n",
       "│<span style=\"color: #c0c0c0; text-decoration-color: #c0c0c0\"> 2  </span>│<span style=\"color: #008080; text-decoration-color: #008080\">      User </span>│<span style=\"color: #c0c0c0; text-decoration-color: #c0c0c0\"> Hi there                                                                                       </span>│\n",
       "├────┼───────────┼────────────────────────────────────────────────────────────────────────────────────────────────┤\n",
       "│<span style=\"color: #c0c0c0; text-decoration-color: #c0c0c0\"> 3  </span>│<span style=\"color: #008080; text-decoration-color: #008080\"> Assistant </span>│<span style=\"color: #c0c0c0; text-decoration-color: #c0c0c0\"> Hello! How can I assist you today?                                                             </span>│\n",
       "├────┼───────────┼────────────────────────────────────────────────────────────────────────────────────────────────┤\n",
       "│<span style=\"color: #c0c0c0; text-decoration-color: #c0c0c0\"> 4  </span>│<span style=\"color: #008080; text-decoration-color: #008080\">      User </span>│<span style=\"color: #c0c0c0; text-decoration-color: #c0c0c0\"> I want to learn ml                                                                             </span>│\n",
       "├────┼───────────┼────────────────────────────────────────────────────────────────────────────────────────────────┤\n",
       "│<span style=\"color: #c0c0c0; text-decoration-color: #c0c0c0\"> 5  </span>│<span style=\"color: #008080; text-decoration-color: #008080\"> Assistant </span>│<span style=\"color: #c0c0c0; text-decoration-color: #c0c0c0\"> Great! Machine learning is really interesting and there are many resources available to learn  </span>│\n",
       "│<span style=\"color: #c0c0c0; text-decoration-color: #c0c0c0\">    </span>│<span style=\"color: #008080; text-decoration-color: #008080\">           </span>│<span style=\"color: #c0c0c0; text-decoration-color: #c0c0c0\"> from. Here are some steps to get started:                                                      </span>│\n",
       "│<span style=\"color: #c0c0c0; text-decoration-color: #c0c0c0\">    </span>│<span style=\"color: #008080; text-decoration-color: #008080\">           </span>│<span style=\"color: #c0c0c0; text-decoration-color: #c0c0c0\">                                                                                                </span>│\n",
       "│<span style=\"color: #c0c0c0; text-decoration-color: #c0c0c0\">    </span>│<span style=\"color: #008080; text-decoration-color: #008080\">           </span>│<span style=\"color: #c0c0c0; text-decoration-color: #c0c0c0\"> 1. Learn the basics of programming: Before diving into machine learning, it's important to     </span>│\n",
       "│<span style=\"color: #c0c0c0; text-decoration-color: #c0c0c0\">    </span>│<span style=\"color: #008080; text-decoration-color: #008080\">           </span>│<span style=\"color: #c0c0c0; text-decoration-color: #c0c0c0\"> have a good grasp of programming concepts. Python is a popular language for machine learning   </span>│\n",
       "│<span style=\"color: #c0c0c0; text-decoration-color: #c0c0c0\">    </span>│<span style=\"color: #008080; text-decoration-color: #008080\">           </span>│<span style=\"color: #c0c0c0; text-decoration-color: #c0c0c0\"> and would be a good place to start.                                                            </span>│\n",
       "│<span style=\"color: #c0c0c0; text-decoration-color: #c0c0c0\">    </span>│<span style=\"color: #008080; text-decoration-color: #008080\">           </span>│<span style=\"color: #c0c0c0; text-decoration-color: #c0c0c0\">                                                                                                </span>│\n",
       "│<span style=\"color: #c0c0c0; text-decoration-color: #c0c0c0\">    </span>│<span style=\"color: #008080; text-decoration-color: #008080\">           </span>│<span style=\"color: #c0c0c0; text-decoration-color: #c0c0c0\"> 2. Learn the math: Machine learning involves a lot of mathematical concepts like linear        </span>│\n",
       "│<span style=\"color: #c0c0c0; text-decoration-color: #c0c0c0\">    </span>│<span style=\"color: #008080; text-decoration-color: #008080\">           </span>│<span style=\"color: #c0c0c0; text-decoration-color: #c0c0c0\"> algebra, calculus, and probability theory. You can study these concepts through online courses </span>│\n",
       "│<span style=\"color: #c0c0c0; text-decoration-color: #c0c0c0\">    </span>│<span style=\"color: #008080; text-decoration-color: #008080\">           </span>│<span style=\"color: #c0c0c0; text-decoration-color: #c0c0c0\"> or textbooks.                                                                                  </span>│\n",
       "│<span style=\"color: #c0c0c0; text-decoration-color: #c0c0c0\">    </span>│<span style=\"color: #008080; text-decoration-color: #008080\">           </span>│<span style=\"color: #c0c0c0; text-decoration-color: #c0c0c0\">                                                                                                </span>│\n",
       "│<span style=\"color: #c0c0c0; text-decoration-color: #c0c0c0\">    </span>│<span style=\"color: #008080; text-decoration-color: #008080\">           </span>│<span style=\"color: #c0c0c0; text-decoration-color: #c0c0c0\"> 3. Understand the types of machine learning: There are three main types of machine learning -  </span>│\n",
       "│<span style=\"color: #c0c0c0; text-decoration-color: #c0c0c0\">    </span>│<span style=\"color: #008080; text-decoration-color: #008080\">           </span>│<span style=\"color: #c0c0c0; text-decoration-color: #c0c0c0\"> supervised learning, unsupervised learning, and reinforcement learning. It's important to      </span>│\n",
       "│<span style=\"color: #c0c0c0; text-decoration-color: #c0c0c0\">    </span>│<span style=\"color: #008080; text-decoration-color: #008080\">           </span>│<span style=\"color: #c0c0c0; text-decoration-color: #c0c0c0\"> understand the differences between the types and when to use each one.                         </span>│\n",
       "│<span style=\"color: #c0c0c0; text-decoration-color: #c0c0c0\">    </span>│<span style=\"color: #008080; text-decoration-color: #008080\">           </span>│<span style=\"color: #c0c0c0; text-decoration-color: #c0c0c0\">                                                                                                </span>│\n",
       "│<span style=\"color: #c0c0c0; text-decoration-color: #c0c0c0\">    </span>│<span style=\"color: #008080; text-decoration-color: #008080\">           </span>│<span style=\"color: #c0c0c0; text-decoration-color: #c0c0c0\"> 4. Learn from courses and books: There are many online courses and books available that can    </span>│\n",
       "│<span style=\"color: #c0c0c0; text-decoration-color: #c0c0c0\">    </span>│<span style=\"color: #008080; text-decoration-color: #008080\">           </span>│<span style=\"color: #c0c0c0; text-decoration-color: #c0c0c0\"> help you learn machine learning. Some popular options are \"Hands-on Machine Learning with      </span>│\n",
       "│<span style=\"color: #c0c0c0; text-decoration-color: #c0c0c0\">    </span>│<span style=\"color: #008080; text-decoration-color: #008080\">           </span>│<span style=\"color: #c0c0c0; text-decoration-color: #c0c0c0\"> Scikit-Learn and TensorFlow\" by Aurélien Géron, \"Machine Learning\" by Andrew Ng, and \"Python   </span>│\n",
       "│<span style=\"color: #c0c0c0; text-decoration-color: #c0c0c0\">    </span>│<span style=\"color: #008080; text-decoration-color: #008080\">           </span>│<span style=\"color: #c0c0c0; text-decoration-color: #c0c0c0\"> Machine Learning\" by Sebastian Raschka.                                                        </span>│\n",
       "│<span style=\"color: #c0c0c0; text-decoration-color: #c0c0c0\">    </span>│<span style=\"color: #008080; text-decoration-color: #008080\">           </span>│<span style=\"color: #c0c0c0; text-decoration-color: #c0c0c0\">                                                                                                </span>│\n",
       "│<span style=\"color: #c0c0c0; text-decoration-color: #c0c0c0\">    </span>│<span style=\"color: #008080; text-decoration-color: #008080\">           </span>│<span style=\"color: #c0c0c0; text-decoration-color: #c0c0c0\"> 5. Practice coding: To really understand machine learning, you need to practice coding. There  </span>│\n",
       "│<span style=\"color: #c0c0c0; text-decoration-color: #c0c0c0\">    </span>│<span style=\"color: #008080; text-decoration-color: #008080\">           </span>│<span style=\"color: #c0c0c0; text-decoration-color: #c0c0c0\"> are many open-source frameworks you can use to create your own machine learning projects, like </span>│\n",
       "│<span style=\"color: #c0c0c0; text-decoration-color: #c0c0c0\">    </span>│<span style=\"color: #008080; text-decoration-color: #008080\">           </span>│<span style=\"color: #c0c0c0; text-decoration-color: #c0c0c0\"> TensorFlow or scikit-learn.                                                                    </span>│\n",
       "│<span style=\"color: #c0c0c0; text-decoration-color: #c0c0c0\">    </span>│<span style=\"color: #008080; text-decoration-color: #008080\">           </span>│<span style=\"color: #c0c0c0; text-decoration-color: #c0c0c0\">                                                                                                </span>│\n",
       "│<span style=\"color: #c0c0c0; text-decoration-color: #c0c0c0\">    </span>│<span style=\"color: #008080; text-decoration-color: #008080\">           </span>│<span style=\"color: #c0c0c0; text-decoration-color: #c0c0c0\"> Remember, machine learning is a complex field, so it might take some time and practice to get  </span>│\n",
       "│<span style=\"color: #c0c0c0; text-decoration-color: #c0c0c0\">    </span>│<span style=\"color: #008080; text-decoration-color: #008080\">           </span>│<span style=\"color: #c0c0c0; text-decoration-color: #c0c0c0\"> the hang of it. But if you stay curious and persistent, you'll be well on your way to          </span>│\n",
       "│<span style=\"color: #c0c0c0; text-decoration-color: #c0c0c0\">    </span>│<span style=\"color: #008080; text-decoration-color: #008080\">           </span>│<span style=\"color: #c0c0c0; text-decoration-color: #c0c0c0\"> mastering this exciting area of technology!                                                    </span>│\n",
       "└────┴───────────┴────────────────────────────────────────────────────────────────────────────────────────────────┘\n",
       "</pre>\n"
      ],
      "text/plain": [
       "\u001b[3m                                                      ChatLog                                                      \u001b[0m\n",
       "┏━━━━┳━━━━━━━━━━━┳━━━━━━━━━━━━━━━━━━━━━━━━━━━━━━━━━━━━━━━━━━━━━━━━━━━━━━━━━━━━━━━━━━━━━━━━━━━━━━━━━━━━━━━━━━━━━━━━┓\n",
       "┃\u001b[1m \u001b[0m\u001b[1mId\u001b[0m\u001b[1m \u001b[0m┃\u001b[1m \u001b[0m\u001b[1m     Role\u001b[0m\u001b[1m \u001b[0m┃\u001b[1m \u001b[0m\u001b[1mContent                                                                                       \u001b[0m\u001b[1m \u001b[0m┃\n",
       "┡━━━━╇━━━━━━━━━━━╇━━━━━━━━━━━━━━━━━━━━━━━━━━━━━━━━━━━━━━━━━━━━━━━━━━━━━━━━━━━━━━━━━━━━━━━━━━━━━━━━━━━━━━━━━━━━━━━━┩\n",
       "│\u001b[37m \u001b[0m\u001b[37m1 \u001b[0m\u001b[37m \u001b[0m│\u001b[36m \u001b[0m\u001b[36m     User\u001b[0m\u001b[36m \u001b[0m│\u001b[37m \u001b[0m\u001b[37mHi there                                                                                      \u001b[0m\u001b[37m \u001b[0m│\n",
       "├────┼───────────┼────────────────────────────────────────────────────────────────────────────────────────────────┤\n",
       "│\u001b[37m \u001b[0m\u001b[37m2 \u001b[0m\u001b[37m \u001b[0m│\u001b[36m \u001b[0m\u001b[36m     User\u001b[0m\u001b[36m \u001b[0m│\u001b[37m \u001b[0m\u001b[37mHi there                                                                                      \u001b[0m\u001b[37m \u001b[0m│\n",
       "├────┼───────────┼────────────────────────────────────────────────────────────────────────────────────────────────┤\n",
       "│\u001b[37m \u001b[0m\u001b[37m3 \u001b[0m\u001b[37m \u001b[0m│\u001b[36m \u001b[0m\u001b[36mAssistant\u001b[0m\u001b[36m \u001b[0m│\u001b[37m \u001b[0m\u001b[37mHello! How can I assist you today?                                                            \u001b[0m\u001b[37m \u001b[0m│\n",
       "├────┼───────────┼────────────────────────────────────────────────────────────────────────────────────────────────┤\n",
       "│\u001b[37m \u001b[0m\u001b[37m4 \u001b[0m\u001b[37m \u001b[0m│\u001b[36m \u001b[0m\u001b[36m     User\u001b[0m\u001b[36m \u001b[0m│\u001b[37m \u001b[0m\u001b[37mI want to learn ml                                                                            \u001b[0m\u001b[37m \u001b[0m│\n",
       "├────┼───────────┼────────────────────────────────────────────────────────────────────────────────────────────────┤\n",
       "│\u001b[37m \u001b[0m\u001b[37m5 \u001b[0m\u001b[37m \u001b[0m│\u001b[36m \u001b[0m\u001b[36mAssistant\u001b[0m\u001b[36m \u001b[0m│\u001b[37m \u001b[0m\u001b[37mGreat! Machine learning is really interesting and there are many resources available to learn \u001b[0m\u001b[37m \u001b[0m│\n",
       "│\u001b[37m    \u001b[0m│\u001b[36m           \u001b[0m│\u001b[37m \u001b[0m\u001b[37mfrom. Here are some steps to get started:                                                     \u001b[0m\u001b[37m \u001b[0m│\n",
       "│\u001b[37m    \u001b[0m│\u001b[36m           \u001b[0m│\u001b[37m \u001b[0m\u001b[37m                                                                                              \u001b[0m\u001b[37m \u001b[0m│\n",
       "│\u001b[37m    \u001b[0m│\u001b[36m           \u001b[0m│\u001b[37m \u001b[0m\u001b[37m1. Learn the basics of programming: Before diving into machine learning, it's important to    \u001b[0m\u001b[37m \u001b[0m│\n",
       "│\u001b[37m    \u001b[0m│\u001b[36m           \u001b[0m│\u001b[37m \u001b[0m\u001b[37mhave a good grasp of programming concepts. Python is a popular language for machine learning  \u001b[0m\u001b[37m \u001b[0m│\n",
       "│\u001b[37m    \u001b[0m│\u001b[36m           \u001b[0m│\u001b[37m \u001b[0m\u001b[37mand would be a good place to start.                                                           \u001b[0m\u001b[37m \u001b[0m│\n",
       "│\u001b[37m    \u001b[0m│\u001b[36m           \u001b[0m│\u001b[37m \u001b[0m\u001b[37m                                                                                              \u001b[0m\u001b[37m \u001b[0m│\n",
       "│\u001b[37m    \u001b[0m│\u001b[36m           \u001b[0m│\u001b[37m \u001b[0m\u001b[37m2. Learn the math: Machine learning involves a lot of mathematical concepts like linear       \u001b[0m\u001b[37m \u001b[0m│\n",
       "│\u001b[37m    \u001b[0m│\u001b[36m           \u001b[0m│\u001b[37m \u001b[0m\u001b[37malgebra, calculus, and probability theory. You can study these concepts through online courses\u001b[0m\u001b[37m \u001b[0m│\n",
       "│\u001b[37m    \u001b[0m│\u001b[36m           \u001b[0m│\u001b[37m \u001b[0m\u001b[37mor textbooks.                                                                                 \u001b[0m\u001b[37m \u001b[0m│\n",
       "│\u001b[37m    \u001b[0m│\u001b[36m           \u001b[0m│\u001b[37m \u001b[0m\u001b[37m                                                                                              \u001b[0m\u001b[37m \u001b[0m│\n",
       "│\u001b[37m    \u001b[0m│\u001b[36m           \u001b[0m│\u001b[37m \u001b[0m\u001b[37m3. Understand the types of machine learning: There are three main types of machine learning - \u001b[0m\u001b[37m \u001b[0m│\n",
       "│\u001b[37m    \u001b[0m│\u001b[36m           \u001b[0m│\u001b[37m \u001b[0m\u001b[37msupervised learning, unsupervised learning, and reinforcement learning. It's important to     \u001b[0m\u001b[37m \u001b[0m│\n",
       "│\u001b[37m    \u001b[0m│\u001b[36m           \u001b[0m│\u001b[37m \u001b[0m\u001b[37munderstand the differences between the types and when to use each one.                        \u001b[0m\u001b[37m \u001b[0m│\n",
       "│\u001b[37m    \u001b[0m│\u001b[36m           \u001b[0m│\u001b[37m \u001b[0m\u001b[37m                                                                                              \u001b[0m\u001b[37m \u001b[0m│\n",
       "│\u001b[37m    \u001b[0m│\u001b[36m           \u001b[0m│\u001b[37m \u001b[0m\u001b[37m4. Learn from courses and books: There are many online courses and books available that can   \u001b[0m\u001b[37m \u001b[0m│\n",
       "│\u001b[37m    \u001b[0m│\u001b[36m           \u001b[0m│\u001b[37m \u001b[0m\u001b[37mhelp you learn machine learning. Some popular options are \"Hands-on Machine Learning with     \u001b[0m\u001b[37m \u001b[0m│\n",
       "│\u001b[37m    \u001b[0m│\u001b[36m           \u001b[0m│\u001b[37m \u001b[0m\u001b[37mScikit-Learn and TensorFlow\" by Aurélien Géron, \"Machine Learning\" by Andrew Ng, and \"Python  \u001b[0m\u001b[37m \u001b[0m│\n",
       "│\u001b[37m    \u001b[0m│\u001b[36m           \u001b[0m│\u001b[37m \u001b[0m\u001b[37mMachine Learning\" by Sebastian Raschka.                                                       \u001b[0m\u001b[37m \u001b[0m│\n",
       "│\u001b[37m    \u001b[0m│\u001b[36m           \u001b[0m│\u001b[37m \u001b[0m\u001b[37m                                                                                              \u001b[0m\u001b[37m \u001b[0m│\n",
       "│\u001b[37m    \u001b[0m│\u001b[36m           \u001b[0m│\u001b[37m \u001b[0m\u001b[37m5. Practice coding: To really understand machine learning, you need to practice coding. There \u001b[0m\u001b[37m \u001b[0m│\n",
       "│\u001b[37m    \u001b[0m│\u001b[36m           \u001b[0m│\u001b[37m \u001b[0m\u001b[37mare many open-source frameworks you can use to create your own machine learning projects, like\u001b[0m\u001b[37m \u001b[0m│\n",
       "│\u001b[37m    \u001b[0m│\u001b[36m           \u001b[0m│\u001b[37m \u001b[0m\u001b[37mTensorFlow or scikit-learn.                                                                   \u001b[0m\u001b[37m \u001b[0m│\n",
       "│\u001b[37m    \u001b[0m│\u001b[36m           \u001b[0m│\u001b[37m \u001b[0m\u001b[37m                                                                                              \u001b[0m\u001b[37m \u001b[0m│\n",
       "│\u001b[37m    \u001b[0m│\u001b[36m           \u001b[0m│\u001b[37m \u001b[0m\u001b[37mRemember, machine learning is a complex field, so it might take some time and practice to get \u001b[0m\u001b[37m \u001b[0m│\n",
       "│\u001b[37m    \u001b[0m│\u001b[36m           \u001b[0m│\u001b[37m \u001b[0m\u001b[37mthe hang of it. But if you stay curious and persistent, you'll be well on your way to         \u001b[0m\u001b[37m \u001b[0m│\n",
       "│\u001b[37m    \u001b[0m│\u001b[36m           \u001b[0m│\u001b[37m \u001b[0m\u001b[37mmastering this exciting area of technology!                                                   \u001b[0m\u001b[37m \u001b[0m│\n",
       "└────┴───────────┴────────────────────────────────────────────────────────────────────────────────────────────────┘\n"
      ]
     },
     "metadata": {},
     "output_type": "display_data"
    }
   ],
   "source": [
    "%show"
   ]
  },
  {
   "cell_type": "code",
   "execution_count": 40,
   "metadata": {},
   "outputs": [
    {
     "name": "stdout",
     "output_type": "stream",
     "text": [
      "New talk opened\n"
     ]
    }
   ],
   "source": [
    "%newtalk"
   ]
  },
  {
   "cell_type": "code",
   "execution_count": 41,
   "metadata": {},
   "outputs": [
    {
     "data": {
      "text/html": [
       "<pre style=\"white-space:pre;overflow-x:auto;line-height:normal;font-family:Menlo,'DejaVu Sans Mono',consolas,'Courier New',monospace\"><span style=\"font-style: italic\">        ChatLog        </span>\n",
       "┏━━━━┳━━━━━━┳━━━━━━━━━┓\n",
       "┃<span style=\"font-weight: bold\"> Id </span>┃<span style=\"font-weight: bold\"> Role </span>┃<span style=\"font-weight: bold\"> Content </span>┃\n",
       "┡━━━━╇━━━━━━╇━━━━━━━━━┩\n",
       "└────┴──────┴─────────┘\n",
       "</pre>\n"
      ],
      "text/plain": [
       "\u001b[3m        ChatLog        \u001b[0m\n",
       "┏━━━━┳━━━━━━┳━━━━━━━━━┓\n",
       "┃\u001b[1m \u001b[0m\u001b[1mId\u001b[0m\u001b[1m \u001b[0m┃\u001b[1m \u001b[0m\u001b[1mRole\u001b[0m\u001b[1m \u001b[0m┃\u001b[1m \u001b[0m\u001b[1mContent\u001b[0m\u001b[1m \u001b[0m┃\n",
       "┡━━━━╇━━━━━━╇━━━━━━━━━┩\n",
       "└────┴──────┴─────────┘\n"
      ]
     },
     "metadata": {},
     "output_type": "display_data"
    }
   ],
   "source": [
    "%show"
   ]
  },
  {
   "cell_type": "code",
   "execution_count": 42,
   "metadata": {},
   "outputs": [],
   "source": [
    "%%talk system\n",
    "I Want you to act as a story writer, you write sad and miserable stories."
   ]
  },
  {
   "cell_type": "code",
   "execution_count": 43,
   "metadata": {},
   "outputs": [
    {
     "name": "stdout",
     "output_type": "stream",
     "text": [
      "Starting chatting\n"
     ]
    }
   ],
   "source": [
    "%start"
   ]
  },
  {
   "cell_type": "code",
   "execution_count": 44,
   "metadata": {},
   "outputs": [
    {
     "data": {
      "text/markdown": [
       "Once upon a time, there was a man named Tom and a woman named Sarah. They were happily married with a dog named Charlie. They lived in a small cottage surrounded by lush greenery and a small river nearby. They used to spend their time together by fishing, taking long walks with Charlie and enjoying nature.\n",
       "\n",
       "But one day, Sarah fell ill, and despite Tom's desperate efforts to save her, she passed away. Tom was heartbroken, and everything in his life felt meaningless without Sarah. The only solace he found was spending time with Charlie, who seemed to share his grief.\n",
       "\n",
       "However, their happiness did not last long, as Charlie fell sick too, and all the efforts of the veterinarians were in vain. Charlie passed away, leaving Tom alone and lost in his grief. He felt like he had lost everything in his life.\n",
       "\n",
       "The once vibrant cottage felt empty and lifeless as Tom struggled with his grief. Every day he would spend hours remembering Sarah and Charlie, and the sadness never left him.\n",
       "\n",
       "As time passed, Tom became more and more isolated, withdrawing from everything in his life. In the end, he couldn't take the pain anymore, and Tom left this world, hoping to be reunited with Sarah and Charlie in the next world.\n",
       "\n",
       "The small cottage stood empty, a painful reminder of the happiness that was lost. The only sound that could be heard was the sound of the river as it flowed gently by, indifferent to the sadness that surrounded it."
      ],
      "text/plain": [
       "<IPython.core.display.Markdown object>"
      ]
     },
     "metadata": {},
     "output_type": "display_data"
    }
   ],
   "source": [
    "%%talk \n",
    "Write a story about a man, a woman and a dog."
   ]
  }
 ],
 "metadata": {
  "kernelspec": {
   "display_name": "base",
   "language": "python",
   "name": "python3"
  },
  "language_info": {
   "codemirror_mode": {
    "name": "ipython",
    "version": 3
   },
   "file_extension": ".py",
   "mimetype": "text/x-python",
   "name": "python",
   "nbconvert_exporter": "python",
   "pygments_lexer": "ipython3",
   "version": "3.8.3"
  },
  "orig_nbformat": 4
 },
 "nbformat": 4,
 "nbformat_minor": 2
}
