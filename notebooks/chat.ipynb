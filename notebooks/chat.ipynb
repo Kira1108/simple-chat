{
 "cells": [
  {
   "cell_type": "code",
   "execution_count": 6,
   "metadata": {},
   "outputs": [
    {
     "data": {
      "text/markdown": [
       "\n",
       "\n",
       "Hello! How can I assist you today?"
      ],
      "text/plain": [
       "<IPython.core.display.Markdown object>"
      ]
     },
     "metadata": {},
     "output_type": "display_data"
    }
   ],
   "source": [
    "from simple_chat import Chat\n",
    "from simple_chat.printer import MarkdownPrinter, HtmlPrinter\n",
    "\n",
    "\n",
    "chat = Chat(printer = MarkdownPrinter())\n",
    "chat.go()\n",
    "\n",
    "chat(\"Hi there\")"
   ]
  },
  {
   "cell_type": "code",
   "execution_count": 2,
   "metadata": {},
   "outputs": [
    {
     "data": {
      "text/markdown": [
       "Sure! Here's a suggested roadmap for learning machine learning:\n",
       "\n",
       "1. Start with basics: Learn about linear algebra, probability, statistics, and calculus, as these topics form the foundation of machine learning.\n",
       "\n",
       "2. Learn a programming language: Python is the most commonly used language for machine learning, so focus on learning Python and its libraries like scikit-learn, NumPy, Pandas, and matplotlib.\n",
       "\n",
       "3. Learn about algorithms: Study different types of algorithms used in machine learning like decision trees, k-nearest neighbors, naive Bayes, support vector machines, and neural networks. \n",
       "\n",
       "4. Practice with datasets: Get your hands dirty by working with datasets like the Iris, MNIST, and Titanic datasets. \n",
       "\n",
       "5. Do some projects: Implement what you have learned by working on a few machine learning projects, which will give you practical experience and help you build a portfolio.\n",
       "\n",
       "6. Learn specialized topics: In addition to the basic concepts, learn specialized topics like deep learning, natural language processing (NLP), and computer vision.\n",
       "\n",
       "7. Participate in online courses and communities: There are many online courses, forums, and communities available where you can ask questions, learn from experts, and share your projects.\n",
       "\n",
       "Remember, the key is to be consistent in your learning and practice. Good luck!"
      ],
      "text/plain": [
       "<IPython.core.display.Markdown object>"
      ]
     },
     "metadata": {},
     "output_type": "display_data"
    }
   ],
   "source": [
    "chat(\"How to learn machine learning? give me a road map\")"
   ]
  },
  {
   "cell_type": "code",
   "execution_count": 5,
   "metadata": {},
   "outputs": [
    {
     "data": {
      "text/markdown": [
       "Sure! Here is an example of Python code using NumPy to calculate cosine similarity between two vectors:\n",
       "\n",
       "```python\n",
       "import numpy as np\n",
       "\n",
       "# Define the two vectors\n",
       "vector1 = np.array([1, 2, 3])\n",
       "vector2 = np.array([2, 3, 4])\n",
       "\n",
       "# Calculate the dot product of the two vectors\n",
       "dot_product = np.dot(vector1, vector2)\n",
       "\n",
       "# Calculate the magnitudes of the vectors\n",
       "magnitude1 = np.sqrt(np.sum(vector1**2))\n",
       "magnitude2 = np.sqrt(np.sum(vector2**2))\n",
       "\n",
       "# Calculate the cosine similarity\n",
       "cosine_similarity = dot_product / (magnitude1 * magnitude2)\n",
       "\n",
       "print(\"Cosine similarity: \", cosine_similarity)\n",
       "```\n",
       "\n",
       "In this code, we first define two vectors, `vector1` and `vector2`, using NumPy arrays. We then calculate the dot product between the two vectors using the `np.dot()` function. \n",
       "\n",
       "Next, we calculate the magnitudes (Euclidean norms) of the vectors using the `np.sqrt()` and `np.sum()` functions. Finally, we calculate the cosine similarity by dividing the dot product of the two vectors by the product of their magnitudes.\n",
       "\n",
       "The output of the program will be the cosine similarity between the two vectors, which should be a value between -1 and 1."
      ],
      "text/plain": [
       "<IPython.core.display.Markdown object>"
      ]
     },
     "metadata": {},
     "output_type": "display_data"
    }
   ],
   "source": [
    "chat(\"generate a piece of code that calculates cosine similarity with python numpy.\")"
   ]
  },
  {
   "cell_type": "code",
   "execution_count": 7,
   "metadata": {},
   "outputs": [
    {
     "data": {
      "text/html": [
       "<div style=\"font-size: 15px; line-height:1.5em; white-space: pre-wrap; width:1000px; text-align:justify; font-family:HelveticaNeue-Light\">Mary was fed up with Tom's constant attempts at flirting with her in the office. She hated the way he always tried to be charming and funny, even though she knew it was all just a ploy to get her into bed. Every time she saw him, she felt a wave of disgust.\n",
       "\n",
       "One day, Tom approached Mary as she was getting coffee in the break room. He leaned in close and whispered something in her ear. Mary rolled her eyes and pushed him away.\n",
       "\n",
       "\"Tom, I'm not interested,\" she said, looking him dead in the eye. \"I don't like the way you behave around me. Please stop.\"\n",
       "\n",
       "Tom seemed taken aback by Mary's bluntness. For a moment, he looked hurt. But then he shrugged and walked away, muttering under his breath.\n",
       "\n",
       "Mary felt relieved. She knew Tom wouldn't bother her again. But she also felt a sense of sadness. She wondered why men like Tom felt the need to constantly harass women in the workplace. Why couldn't they just be respectful and professional?\n",
       "\n",
       "As Mary sat down at her desk and started typing away at her computer, she knew there would be more Toms in her life. But she also knew that she wouldn't let them get to her. She was strong enough to stand up for herself and demand respect. And, in the end, that was all that mattered.</div>"
      ],
      "text/plain": [
       "<IPython.core.display.HTML object>"
      ]
     },
     "metadata": {},
     "output_type": "display_data"
    }
   ],
   "source": [
    "chat = Chat(printer = HtmlPrinter())\n",
    "chat.system(\"You are a story writer, you write sad, miserable stories.\")\n",
    "chat.go()\n",
    "\n",
    "chat(\"Write a story about a girl who hates office PUA. very short story.\")"
   ]
  },
  {
   "cell_type": "code",
   "execution_count": 9,
   "metadata": {},
   "outputs": [],
   "source": [
    "# chat(\"Translate the above story to Chinese.\")"
   ]
  }
 ],
 "metadata": {
  "kernelspec": {
   "display_name": "base",
   "language": "python",
   "name": "python3"
  },
  "language_info": {
   "codemirror_mode": {
    "name": "ipython",
    "version": 3
   },
   "file_extension": ".py",
   "mimetype": "text/x-python",
   "name": "python",
   "nbconvert_exporter": "python",
   "pygments_lexer": "ipython3",
   "version": "3.8.3"
  },
  "orig_nbformat": 4
 },
 "nbformat": 4,
 "nbformat_minor": 2
}
